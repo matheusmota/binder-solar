{
 "cells": [
  {
   "cell_type": "markdown",
   "metadata": {},
   "source": [
    "# Accessing Solr via [pysolr]()"
   ]
  },
  {
   "cell_type": "markdown",
   "metadata": {},
   "source": [
    "## Downloading, unziping and starting Solr in cluster mode"
   ]
  },
  {
   "cell_type": "code",
   "execution_count": 1,
   "metadata": {},
   "outputs": [],
   "source": [
    "# ! wget  http://ftp.unicamp.br/pub/apache/lucene/solr/8.1.1/solr-8.1.1.zip -q\n",
    "# ! unzip -qq solr-8.1.1.zip && rm solr-8.1.1.zip\n",
    "# ! ./solr-8.1.1/bin/solr start -c"
   ]
  },
  {
   "cell_type": "markdown",
   "metadata": {},
   "source": [
    "## Creating a collection"
   ]
  },
  {
   "cell_type": "code",
   "execution_count": 2,
   "metadata": {},
   "outputs": [
    {
     "name": "stdout",
     "output_type": "stream",
     "text": [
      "WARNING: Using _default configset with data driven schema functionality. NOT RECOMMENDED for production use.\n",
      "         To turn off: bin/solr config -c example -p 8983 -action set-user-property -property update.autoCreateFields -value false\n",
      "Created collection 'example' with 1 shard(s), 1 replica(s) with config-set 'example'\n"
     ]
    }
   ],
   "source": [
    "! ./solr-8.1.1/bin/solr create -c example"
   ]
  },
  {
   "cell_type": "markdown",
   "metadata": {},
   "source": [
    "## Connecting to the Solr server"
   ]
  },
  {
   "cell_type": "code",
   "execution_count": 3,
   "metadata": {},
   "outputs": [],
   "source": [
    "import pysolr\n",
    "solr_server_url = 'http://localhost:8983/solr/'\n",
    "solr_collection = \"example\"\n",
    "solr = pysolr.Solr(solr_server_url + solr_collection)"
   ]
  },
  {
   "cell_type": "markdown",
   "metadata": {},
   "source": [
    "## Adding some documents"
   ]
  },
  {
   "cell_type": "code",
   "execution_count": 4,
   "metadata": {},
   "outputs": [],
   "source": [
    "r = solr.add([\n",
    "                {\n",
    "                    \"id\": \"doc_1\",\n",
    "                    \"title\": \"Well, this is a test document\",\n",
    "                },\n",
    "                {\n",
    "                    \"id\": \"doc_2\",\n",
    "                    \"title\": \"Ha! Another document! :)\",\n",
    "                },\n",
    "    ], commit=True)"
   ]
  },
  {
   "cell_type": "markdown",
   "metadata": {},
   "source": [
    "## Searching documents"
   ]
  },
  {
   "cell_type": "code",
   "execution_count": 5,
   "metadata": {},
   "outputs": [
    {
     "name": "stdout",
     "output_type": "stream",
     "text": [
      "Found 2 documents\n",
      "The document doc_1 has the following 'title': ['Well, this is a test document']\n",
      "The document doc_2 has the following 'title': ['Ha! Another document! :)']\n"
     ]
    }
   ],
   "source": [
    "results = solr.search('*:*')\n",
    "\n",
    "print(\"Found {0} documents\".format(len(results)))\n",
    "\n",
    "for result in results:\n",
    "    print(\"The document {0} has the following 'title': {1}\".format(result['id'], result['title']))"
   ]
  },
  {
   "cell_type": "markdown",
   "metadata": {},
   "source": [
    "## Deleting Documents"
   ]
  },
  {
   "cell_type": "code",
   "execution_count": 6,
   "metadata": {},
   "outputs": [],
   "source": [
    "r = solr.delete(id='doc_1', commit=True)\n",
    "\n",
    "# deleting in batch mode\n",
    "#r = solr.delete(id=['doc_1', 'doc_2'], commit=True)\n",
    "\n",
    "# query based deleting\n",
    "#r = solr.delete(q='*:*', commit=True)"
   ]
  },
  {
   "cell_type": "code",
   "execution_count": 7,
   "metadata": {},
   "outputs": [
    {
     "data": {
      "text/html": [
       "\n",
       "        <iframe\n",
       "            width=\"100%\"\n",
       "            height=\"430px\"\n",
       "            src=\"http://localhost:8983/solr/\"\n",
       "            frameborder=\"0\"\n",
       "            allowfullscreen\n",
       "        ></iframe>\n",
       "        "
      ],
      "text/plain": [
       "<IPython.lib.display.IFrame at 0x7f06b0654e10>"
      ]
     },
     "metadata": {},
     "output_type": "display_data"
    }
   ],
   "source": [
    "from IPython.display import IFrame, HTML\n",
    "display(IFrame(src=solr_server_url, width=\"100%\", height=\"430px\"))"
   ]
  },
  {
   "cell_type": "code",
   "execution_count": null,
   "metadata": {},
   "outputs": [],
   "source": []
  }
 ],
 "metadata": {
  "kernelspec": {
   "display_name": "Python 3",
   "language": "python",
   "name": "python3"
  },
  "language_info": {
   "codemirror_mode": {
    "name": "ipython",
    "version": 3
   },
   "file_extension": ".py",
   "mimetype": "text/x-python",
   "name": "python",
   "nbconvert_exporter": "python",
   "pygments_lexer": "ipython3",
   "version": "3.6.8"
  }
 },
 "nbformat": 4,
 "nbformat_minor": 2
}
